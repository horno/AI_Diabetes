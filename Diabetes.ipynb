﻿{
  "nbformat": 4,
  "nbformat_minor": 0,
  "metadata": {
    "colab": {
      "name": "Diabetes.ipynb",
      "version": "0.3.2",
      "views": {},
      "default_view": {},
      "provenance": [],
      "collapsed_sections": []
    },
    "kernelspec": {
      "name": "python2",
      "display_name": "Python 2"
    }
  },
  "cells": [
    {
      "metadata": {
        "id": "I-T4K7-UMrxp",
        "colab_type": "text"
      },
      "cell_type": "markdown",
      "source": [
        "Primer s'importen els mòduls de Python necessaris"
      ]
    },
    {
      "metadata": {
        "id": "Yzr6abe0MozZ",
        "colab_type": "code",
        "colab": {
          "autoexec": {
            "startup": false,
            "wait_interval": 0
          },
          "base_uri": "https://localhost:8080/",
          "height": 50
        },
        "outputId": "f37aa196-5f28-454a-8503-8754e2b6d1fd",
        "executionInfo": {
          "status": "ok",
          "timestamp": 1532081932592,
          "user_tz": -120,
          "elapsed": 599,
          "user": {
            "displayName": "Ian Palacin",
            "photoUrl": "https://lh3.googleusercontent.com/a/default-user=s128",
            "userId": "114917427833416900467"
          }
        }
      },
      "cell_type": "code",
      "source": [
        "import sys\n",
        "import tensorflow as tf\n",
        "import numpy as np\n",
        "import matplotlib.pyplot as plt\n",
        "import sklearn.datasets\n",
        "print(\"Python version: {}\".format(sys.version))"
      ],
      "execution_count": 16,
      "outputs": [
        {
          "output_type": "stream",
          "text": [
            "Python version: 2.7.14 (default, Sep 23 2017, 22:06:14) \n",
            "[GCC 7.2.0]\n"
          ],
          "name": "stdout"
        }
      ]
    },
    {
      "metadata": {
        "id": "KyQxvCOJy14m",
        "colab_type": "text"
      },
      "cell_type": "markdown",
      "source": [
        "Descarreguem el dataset de la diabetes i l'assginem al nom diabetes.\n"
      ]
    },
    {
      "metadata": {
        "id": "CrTi0VEkzaVW",
        "colab_type": "code",
        "colab": {
          "autoexec": {
            "startup": false,
            "wait_interval": 0
          }
        }
      },
      "cell_type": "code",
      "source": [
        "diabetes = sklearn.datasets.load_diabetes()"
      ],
      "execution_count": 0,
      "outputs": []
    },
    {
      "metadata": {
        "id": "e6WfJiQANPMi",
        "colab_type": "text"
      },
      "cell_type": "markdown",
      "source": [
        "Separem les dades en conjunts d'entrenament i conjunts per testejar"
      ]
    },
    {
      "metadata": {
        "id": "6l-g2d9810Jv",
        "colab_type": "code",
        "colab": {
          "autoexec": {
            "startup": false,
            "wait_interval": 0
          },
          "base_uri": "https://localhost:8080/",
          "height": 34
        },
        "outputId": "33be923a-cd9e-40ce-e907-fa92f0982dab",
        "executionInfo": {
          "status": "ok",
          "timestamp": 1532081937033,
          "user_tz": -120,
          "elapsed": 559,
          "user": {
            "displayName": "Ian Palacin",
            "photoUrl": "https://lh3.googleusercontent.com/a/default-user=s128",
            "userId": "114917427833416900467"
          }
        }
      },
      "cell_type": "code",
      "source": [
        "diabetes_X = diabetes.data[:, np.newaxis, 2]\n",
        "train_X = diabetes_X[:-20]\n",
        "diabetes_X_test = diabetes_X[-20:]\n",
        "n_samples = train_X.shape[0]\n",
        "print n_samples"
      ],
      "execution_count": 18,
      "outputs": [
        {
          "output_type": "stream",
          "text": [
            "422\n"
          ],
          "name": "stdout"
        }
      ]
    },
    {
      "metadata": {
        "id": "C1F40oiBNcGI",
        "colab_type": "text"
      },
      "cell_type": "markdown",
      "source": [
        "Separem les targets en entrenament i testos"
      ]
    },
    {
      "metadata": {
        "id": "INAZh2mX2K22",
        "colab_type": "code",
        "colab": {
          "autoexec": {
            "startup": false,
            "wait_interval": 0
          }
        }
      },
      "cell_type": "code",
      "source": [
        "train_Y = diabetes.target[:-20]\n",
        "diabetes_Y_test = diabetes.target[-20:]"
      ],
      "execution_count": 0,
      "outputs": []
    },
    {
      "metadata": {
        "id": "t9kksqr7NoV6",
        "colab_type": "text"
      },
      "cell_type": "markdown",
      "source": [
        "Mostrem gràficament les dades"
      ]
    },
    {
      "metadata": {
        "id": "wI9c5tKB2R8n",
        "colab_type": "code",
        "colab": {
          "autoexec": {
            "startup": false,
            "wait_interval": 0
          },
          "base_uri": "https://localhost:8080/",
          "height": 347
        },
        "outputId": "7576ce81-69a9-4f1b-97d9-6c77da1abf83",
        "executionInfo": {
          "status": "ok",
          "timestamp": 1532081939717,
          "user_tz": -120,
          "elapsed": 660,
          "user": {
            "displayName": "Ian Palacin",
            "photoUrl": "https://lh3.googleusercontent.com/a/default-user=s128",
            "userId": "114917427833416900467"
          }
        }
      },
      "cell_type": "code",
      "source": [
        "plt.plot(train_X, train_Y, 'ro', label='Original data')\n",
        "plt.legend()\n",
        "plt.show()"
      ],
      "execution_count": 20,
      "outputs": [
        {
          "output_type": "display_data",
          "data": {
            "image/png": "[encoded data removed]",
            "text/plain": [
              "<matplotlib.figure.Figure at 0x7f67da3ebd50>"
            ]
          },
          "metadata": {
            "tags": []
          }
        }
      ]
    },
    {
      "metadata": {
        "id": "ATtlAf4lNzgB",
        "colab_type": "text"
      },
      "cell_type": "markdown",
      "source": [
        "Creació del graf d'operacions"
      ]
    },
    {
      "metadata": {
        "id": "SqwMULaM2n_m",
        "colab_type": "code",
        "colab": {
          "autoexec": {
            "startup": false,
            "wait_interval": 0
          }
        }
      },
      "cell_type": "code",
      "source": [
        "class LinearRegressionModel:\n",
        "  def __init__(self, learning_rate):\n",
        "    self.X = tf.placeholder(tf.float32, name=\"X\")\n",
        "    self.Y = tf.placeholder(tf.float32, name=\"Y\")\n",
        "\n",
        "    # Set model weights\n",
        "    self.W = tf.Variable(tf.truncated_normal([1]), name=\"weight\")\n",
        "    self.b = tf.Variable(tf.truncated_normal([1]), name=\"bias\")\n",
        "\n",
        "    self.Y_pred = tf.add(tf.multiply(self.X, self.W), self.b, name=\"hypothesis\")\n",
        "\n",
        "    # Mean squared error\n",
        "    self.cost = tf.reduce_sum(tf.pow(self.Y_pred-self.Y, 2))/(2*n_samples)\n",
        "    # Gradient descent\n",
        "    self.optimizer = tf.train.GradientDescentOptimizer(learning_rate).minimize(self.cost)\n",
        "\n",
        "    \n",
        "\n",
        "learning_rate =0.01\n",
        "lr_model = LinearRegressionModel(learning_rate)\n",
        "\n",
        "# Initialize the variables (i.e. assign their default value)\n",
        "init = tf.global_variables_initializer()"
      ],
      "execution_count": 0,
      "outputs": []
    },
    {
      "metadata": {
        "id": "O0eHOBz1OEtM",
        "colab_type": "text"
      },
      "cell_type": "markdown",
      "source": [
        "Creació de la sessió de minimització de costos"
      ]
    },
    {
      "metadata": {
        "id": "fJi4uDd730l-",
        "colab_type": "code",
        "colab": {
          "autoexec": {
            "startup": false,
            "wait_interval": 0
          },
          "base_uri": "https://localhost:8080/",
          "height": 902
        },
        "outputId": "2fd395cb-d3c8-476b-abd9-f0d0e39beb29",
        "executionInfo": {
          "status": "ok",
          "timestamp": 1532080325536,
          "user_tz": -120,
          "elapsed": 209657,
          "user": {
            "displayName": "Ian Palacin",
            "photoUrl": "https://lh3.googleusercontent.com/a/default-user=s128",
            "userId": "114917427833416900467"
          }
        }
      },
      "cell_type": "code",
      "source": [
        "training_epochs = 1500\n",
        "display_step = 50\n",
        "\n",
        "total_epochs = []\n",
        "total_loss = []\n",
        "\n",
        "# Start training\n",
        "with tf.Session() as sess:\n",
        "    sess.run(init)\n",
        "\n",
        "    # Fit all training data\n",
        "    for epoch in range(training_epochs):\n",
        "        for (x, y) in zip(train_X, train_Y):\n",
        "            sess.run(lr_model.optimizer, feed_dict={lr_model.X: x, lr_model.Y: y})\n",
        "        #Display logs per epoch step\n",
        "        if (epoch+1) % display_step == 0:\n",
        "            c = sess.run(lr_model.cost, feed_dict={lr_model.X: train_X, lr_model.Y:train_Y})\n",
        "            print \"Epoch:\", '%04d' % (epoch+1), \"cost=\", \"{:.9f}\".format(c), \\\n",
        "                \"W=\", sess.run(lr_model.W), \"b=\", sess.run(lr_model.b)\n",
        "            total_epochs.append(epoch+1)\n",
        "            total_loss.append(c)\n",
        "            #Graphic display\n",
        "            #plt.plot(train_X, train_Y, 'ro', label='Original data')\n",
        "            #plt.plot(train_X, sess.run(lr_model.W) * train_X + sess.run(lr_model.b), label='Fitted line epoch: {}'.format(epoch+1))\n",
        "            #plt.legend()\n",
        "            #plt.show()\n",
        "            \n",
        "    print \"Optimization Finished!\"\n",
        "    training_cost = sess.run(lr_model.cost, feed_dict={lr_model.X: train_X, lr_model.Y: train_Y})\n",
        "    print \"Training cost=\", training_cost, \"W=\", sess.run(lr_model.W), \"b=\", sess.run(lr_model.b), '\\n'\n",
        "    plt.plot(train_X, train_Y, 'ro', label='Original data')\n",
        "    plt.plot(train_X, sess.run(lr_model.W) * train_X + sess.run(lr_model.b), label='Fitted line epoch: {}'.format(epoch+1))\n",
        "    plt.legend()\n",
        "    plt.show()       "
      ],
      "execution_count": 15,
      "outputs": [
        {
          "output_type": "stream",
          "text": [
            "Epoch: 0050 cost= 3087992.250000000 W= [0.46552396] b= [60.160984]\n",
            "Epoch: 0100 cost= 1929193.875000000 W= [1.5437124] b= [96.84168]\n",
            "Epoch: 0150 cost= 1502987.250000000 W= [2.6140196] b= [119.08912]\n",
            "Epoch: 0200 cost= 1346251.000000000 W= [3.6790779] b= [132.58264]\n",
            "Epoch: 0250 cost= 1288625.375000000 W= [4.7405005] b= [140.76627]\n",
            "Epoch: 0300 cost= 1267448.375000000 W= [5.799192] b= [145.72984]\n",
            "Epoch: 0350 cost= 1259672.875000000 W= [6.855794] b= [148.74022]\n",
            "Epoch: 0400 cost= 1256824.500000000 W= [7.910615] b= [150.56595]\n",
            "Epoch: 0450 cost= 1255785.750000000 W= [8.9641905] b= [151.67307]\n",
            "Epoch: 0500 cost= 1255414.375000000 W= [10.016035] b= [152.34451]\n",
            "Epoch: 0550 cost= 1255284.000000000 W= [11.066637] b= [152.75212]\n",
            "Epoch: 0600 cost= 1255245.375000000 W= [12.11623] b= [152.9969]\n",
            "Epoch: 0650 cost= 1255240.875000000 W= [13.164308] b= [153.14478]\n",
            "Epoch: 0700 cost= 1255248.500000000 W= [14.211304] b= [153.23624]\n",
            "Epoch: 0750 cost= 1255260.625000000 W= [15.257103] b= [153.29091]\n",
            "Epoch: 0800 cost= 1255276.750000000 W= [16.301754] b= [153.32309]\n",
            "Epoch: 0850 cost= 1255292.125000000 W= [17.345362] b= [153.34575]\n",
            "Epoch: 0900 cost= 1255310.625000000 W= [18.38765] b= [153.3606]\n",
            "Epoch: 0950 cost= 1255329.000000000 W= [19.428738] b= [153.36671]\n",
            "Epoch: 1000 cost= 1255347.625000000 W= [20.46881] b= [153.36584]\n",
            "Epoch: 1050 cost= 1255369.625000000 W= [21.50748] b= [153.36807]\n",
            "Epoch: 1100 cost= 1255393.000000000 W= [22.5451] b= [153.37128]\n",
            "Epoch: 1150 cost= 1255413.875000000 W= [23.582033] b= [153.37224]\n",
            "Epoch: 1200 cost= 1255440.000000000 W= [24.61773] b= [153.36807]\n",
            "Epoch: 1250 cost= 1255463.000000000 W= [25.652298] b= [153.36252]\n",
            "Epoch: 1300 cost= 1255488.750000000 W= [26.68594] b= [153.3626]\n",
            "Epoch: 1350 cost= 1255515.750000000 W= [27.718508] b= [153.36298]\n",
            "Epoch: 1400 cost= 1255543.875000000 W= [28.749971] b= [153.36317]\n",
            "Epoch: 1450 cost= 1255572.500000000 W= [29.780458] b= [153.362]\n",
            "Epoch: 1500 cost= 1255601.250000000 W= [30.809225] b= [153.36014]\n",
            "Optimization Finished!\n",
            "Training cost= 1255601.2 W= [30.809225] b= [153.36014] \n",
            "\n"
          ],
          "name": "stdout"
        },
        {
          "output_type": "display_data",
          "data": {
            "image/png": "[encoded data removed]",
            "text/plain": [
              "<matplotlib.figure.Figure at 0x7f67dcdb36d0>"
            ]
          },
          "metadata": {
            "tags": []
          }
        }
      ]
    },
    {
      "metadata": {
        "id": "JndB9hYGOQCJ",
        "colab_type": "text"
      },
      "cell_type": "markdown",
      "source": [
        "Finalment, representació gràfica de la disminució de l'error, com podem veure, al principi hi ha molta distància entre els punts, això vol dir que es disminueix l'error en grans quantitats. Ràpidament, però, els valors comencen a ser equidistants i al mateix nivell, fent que el cost computacional de la reducció d'error sigui massa gran o simplement s'hagi arribat a un mínim (possiblement el segon)."
      ]
    },
    {
      "metadata": {
        "id": "syceBd5TPcGv",
        "colab_type": "code",
        "colab": {
          "autoexec": {
            "startup": false,
            "wait_interval": 0
          },
          "base_uri": "https://localhost:8080/",
          "height": 347
        },
        "outputId": "2bc2d09a-4fd2-4c1f-b33e-3b7bf1767204",
        "executionInfo": {
          "status": "ok",
          "timestamp": 1532082314176,
          "user_tz": -120,
          "elapsed": 575,
          "user": {
            "displayName": "Ian Palacin",
            "photoUrl": "https://lh3.googleusercontent.com/a/default-user=s128",
            "userId": "114917427833416900467"
          }
        }
      },
      "cell_type": "code",
      "source": [
        "plt.plot(total_epochs, total_loss, 'ro', label='Cost values (every 50 epochs)')\n",
        "plt.legend()\n",
        "plt.show()"
      ],
      "execution_count": 21,
      "outputs": [
        {
          "output_type": "display_data",
          "data": {
            "image/png": "[encoded data removed]",
            "text/plain": [
              "<matplotlib.figure.Figure at 0x7f67da3a47d0>"
            ]
          },
          "metadata": {
            "tags": []
          }
        }
      ]
    }
  ]
}